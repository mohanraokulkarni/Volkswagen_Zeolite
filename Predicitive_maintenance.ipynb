{
 "cells": [
  {
   "cell_type": "code",
   "execution_count": 1,
   "id": "025c0a07",
   "metadata": {},
   "outputs": [],
   "source": [
    "import numpy as np\n",
    "import pandas as pd\n",
    "import matplotlib.pyplot as plt\n",
    "from sklearn.model_selection import train_test_split\n",
    "from sklearn.preprocessing import MinMaxScaler\n",
    "from sklearn.ensemble import RandomForestClassifier, RandomForestRegressor\n",
    "from sklearn.metrics import classification_report, confusion_matrix, mean_absolute_error, mean_squared_error\n",
    "import tensorflow as tf\n",
    "from tensorflow.keras.models import Sequential\n",
    "from tensorflow.keras.layers import Dense, Dropout\n",
    "from tensorflow.keras.utils import to_categorical\n",
    "import warnings\n",
    "import pickle\n",
    "\n",
    "# Suppress all warnings\n",
    "warnings.filterwarnings(\"ignore\")\n"
   ]
  },
  {
   "cell_type": "code",
   "execution_count": 2,
   "id": "3c47c812",
   "metadata": {},
   "outputs": [],
   "source": [
    "# Function to convert minutes to human-readable format\n",
    "def convert_minutes(total_minutes):\n",
    "    \"\"\"\n",
    "    Convert minutes into days, hours, and minutes based on the given conditions.\n",
    "\n",
    "    Args:\n",
    "        total_minutes (int): Total minutes to be converted.\n",
    "    \n",
    "    Returns:\n",
    "        str: Converted time as a human-readable string.\n",
    "    \"\"\"\n",
    "    if total_minutes < 60:\n",
    "        # Case 1: Less than 1 hour, show only in minutes\n",
    "        return f\"{total_minutes} minute(s)\"\n",
    "    elif total_minutes < 1440:  # 1440 minutes = 24 hours\n",
    "        # Case 2: Between 1 hour and less than 24 hours, show only in hours\n",
    "        hours = total_minutes // 60\n",
    "        return f\"{hours} hour(s)\"\n",
    "    else:\n",
    "        # Case 3: 24 hours or more, show in days and hours\n",
    "        days = total_minutes // 1440\n",
    "        remaining_minutes = total_minutes % 1440\n",
    "        hours = remaining_minutes // 60\n",
    "        return f\"{days} day(s) and {hours} hour(s)\""
   ]
  },
  {
   "cell_type": "code",
   "execution_count": 3,
   "id": "5950335b",
   "metadata": {},
   "outputs": [
    {
     "name": "stdout",
     "output_type": "stream",
     "text": [
      "Synthetic high-accuracy data saved as 'ev_predictive_maintenance_data.csv'.\n"
     ]
    }
   ],
   "source": [
    "# Generate synthetic data\n",
    "np.random.seed(42)\n",
    "\n",
    "samples_per_class = 10000\n",
    "num_classes = 5\n",
    "total_samples = samples_per_class * num_classes\n",
    "\n",
    "features = []\n",
    "labels = []\n",
    "time_to_failure = []\n",
    "\n",
    "for class_label in range(num_classes):\n",
    "    voltage = np.random.uniform(200 + class_label * 15, 220 + class_label * 15, samples_per_class)\n",
    "    current = np.random.uniform(10 + class_label * 4, 20 + class_label * 6, samples_per_class)\n",
    "    temperature = np.random.uniform(20 + class_label * 6, 40 + class_label * 20, samples_per_class)\n",
    "    vibration = np.random.uniform(0 + class_label * 0.4, 1 + class_label * 0.6, samples_per_class)\n",
    "    ambient_temp = np.random.uniform(10 + class_label * 3, 25 + class_label * 8, samples_per_class)\n",
    "    humidity = np.random.uniform(20 + class_label * 4, 40 + class_label * 4, samples_per_class)\n",
    "\n",
    "    noise_factor = np.random.normal(0, 0.5, size=samples_per_class)\n",
    "    voltage += noise_factor * 1.5\n",
    "    current += noise_factor * 0.3\n",
    "    temperature += noise_factor * 1.5\n",
    "    vibration += noise_factor * 0.05\n",
    "    ambient_temp += noise_factor * 0.75\n",
    "    humidity += noise_factor * 1.5\n",
    "\n",
    "    if class_label == 0:\n",
    "        time_to_fail = np.random.uniform(8000, 10000, samples_per_class)\n",
    "    else:\n",
    "        time_to_fail = np.random.uniform(1000 / class_label, 3000 / class_label, samples_per_class)\n",
    "\n",
    "    for i in range(samples_per_class):\n",
    "        features.append([voltage[i], current[i], temperature[i], vibration[i], ambient_temp[i], humidity[i]])\n",
    "        labels.append(class_label)\n",
    "        time_to_failure.append(time_to_fail[i])\n",
    "\n",
    "data = pd.DataFrame(features, columns=[\"Voltage\", \"Current\", \"Temperature\", \"Vibration\", \"Ambient_Temperature\", \"Humidity\"])\n",
    "data[\"Failure_Class\"] = labels\n",
    "data[\"Time_to_Failure\"] = time_to_failure\n",
    "\n",
    "data = data.sample(frac=1).reset_index(drop=True)\n",
    "data.to_csv(\"ev_predictive_maintenance_data.csv\", index=False)\n",
    "print(\"Synthetic high-accuracy data saved as 'ev_predictive_maintenance_data.csv'.\")"
   ]
  },
  {
   "cell_type": "code",
   "execution_count": 11,
   "id": "1df4dfa9",
   "metadata": {},
   "outputs": [
    {
     "name": "stdout",
     "output_type": "stream",
     "text": [
      "Data preprocessing complete.\n"
     ]
    }
   ],
   "source": [
    "# Data Preprocessing\n",
    "data = pd.read_csv(\"ev_predictive_maintenance_data.csv\")\n",
    "\n",
    "data[\"Time_to_Failure\"].fillna(9999, inplace=True)\n",
    "\n",
    "X = data.drop([\"Failure_Class\", \"Time_to_Failure\"], axis=1)\n",
    "y_class = data[\"Failure_Class\"]\n",
    "y_time = data[\"Time_to_Failure\"]\n",
    "\n",
    "scaler = MinMaxScaler()\n",
    "X_scaled = scaler.fit_transform(X)\n",
    "\n",
    "X_train, X_test, y_class_train, y_class_test, y_time_train, y_time_test = train_test_split(\n",
    "    X_scaled, y_class, y_time, test_size=0.2, random_state=42\n",
    ")\n",
    "with open('scaler.pkl', 'wb') as f:\n",
    "    pickle.dump(scaler, f)\n",
    "\n",
    "print(\"Data preprocessing complete.\")\n"
   ]
  },
  {
   "cell_type": "code",
   "execution_count": 6,
   "id": "3ab81420",
   "metadata": {},
   "outputs": [
    {
     "name": "stdout",
     "output_type": "stream",
     "text": [
      "Random Forest models trained successfully.\n"
     ]
    }
   ],
   "source": [
    "# Random Forest Models\n",
    "clf_model = RandomForestClassifier(n_estimators=200, random_state=42)\n",
    "clf_model.fit(X_train, y_class_train)\n",
    "\n",
    "reg_model = RandomForestRegressor(n_estimators=200, random_state=42)\n",
    "reg_model.fit(X_train, y_time_train)\n",
    "\n",
    "# Assuming clf_model and reg_model are your trained models\n",
    "with open('clf_model.pkl', 'wb') as f:\n",
    "    pickle.dump(clf_model, f)\n",
    "\n",
    "with open('reg_model.pkl', 'wb') as f:\n",
    "    pickle.dump(reg_model, f)\n",
    "print(\"Random Forest models trained successfully.\")\n",
    "\n"
   ]
  },
  {
   "cell_type": "code",
   "execution_count": 7,
   "id": "c0011ed1",
   "metadata": {},
   "outputs": [
    {
     "name": "stdout",
     "output_type": "stream",
     "text": [
      "Classification Report:\n",
      "\n",
      "                       precision    recall  f1-score   support\n",
      "\n",
      "     Normal Operation       0.99      0.99      0.99      2032\n",
      "      Thermal Failure       0.97      0.98      0.97      1998\n",
      "   Electrical Failure       0.95      0.96      0.96      2001\n",
      "   Mechanical Failure       0.93      0.94      0.93      1992\n",
      "Environmental Failure       0.98      0.94      0.96      1977\n",
      "\n",
      "             accuracy                           0.96     10000\n",
      "            macro avg       0.96      0.96      0.96     10000\n",
      "         weighted avg       0.96      0.96      0.96     10000\n",
      "\n",
      "Confusion Matrix:\n",
      "\n",
      "[[2019   13    0    0    0]\n",
      " [  30 1956   12    0    0]\n",
      " [   0   50 1928   23    0]\n",
      " [   0    0   93 1865   34]\n",
      " [   0    0    0  115 1862]]\n"
     ]
    }
   ],
   "source": [
    "# Classification Evaluation\n",
    "y_class_pred = clf_model.predict(X_test)\n",
    "print(\"Classification Report:\\n\")\n",
    "print(classification_report(y_class_test, y_class_pred, target_names=[\n",
    "    \"Normal Operation\", \"Thermal Failure\", \"Electrical Failure\",\n",
    "    \"Mechanical Failure\", \"Environmental Failure\"\n",
    "]))\n",
    "print(\"Confusion Matrix:\\n\")\n",
    "print(confusion_matrix(y_class_test, y_class_pred))\n",
    "\n"
   ]
  },
  {
   "cell_type": "code",
   "execution_count": 8,
   "id": "769fe9cc",
   "metadata": {},
   "outputs": [
    {
     "name": "stdout",
     "output_type": "stream",
     "text": [
      "Mean Absolute Error (Time-to-Failure): 357.44 minutes\n",
      "Mean Squared Error (Time-to-Failure): 352029.63 minutes^2\n"
     ]
    }
   ],
   "source": [
    "# Regression Evaluation\n",
    "y_time_pred = reg_model.predict(X_test)\n",
    "print(f\"Mean Absolute Error (Time-to-Failure): {mean_absolute_error(y_time_test, y_time_pred):.2f} minutes\")\n",
    "print(f\"Mean Squared Error (Time-to-Failure): {mean_squared_error(y_time_test, y_time_pred):.2f} minutes^2\")\n",
    "\n"
   ]
  },
  {
   "cell_type": "code",
   "execution_count": 9,
   "id": "8ac6db80",
   "metadata": {},
   "outputs": [
    {
     "name": "stdout",
     "output_type": "stream",
     "text": [
      "🚨 Attention! We've detected a potential   Connectors and Cables failure.Estimated time to failure:  8.0 hour(s). Please check the system promptly to avoid disruptions. 😊\n"
     ]
    }
   ],
   "source": [
    "# Simulated Real-Time Prediction\n",
    "real_time_data = np.array([[360, 85, 90, 3.5, 45, 80]])\n",
    "real_time_data_scaled = scaler.transform(real_time_data)\n",
    "\n",
    "predicted_class = clf_model.predict(real_time_data_scaled)[0]\n",
    "predicted_time = reg_model.predict(real_time_data_scaled)[0]\n",
    "\n",
    "readable_time = convert_minutes(predicted_time)\n",
    "\n",
    "class_names = [\"Normal Operation\", \"Thermal Failure\", \"Electrical Failure\", \"Mechanical Failure\", \"Environmental Failure\"]\n",
    "if predicted_class == 0:\n",
    "    print(f\"Predicted: {class_names[predicted_class]} (No failure detected).\")\n",
    "else:\n",
    "    \n",
    "    global d,a,fault_device,time_taken\n",
    "    d=class_names[predicted_class]\n",
    "    a=readable_time\n",
    "    if d== \"Thermal Failure\":\n",
    "        fault_device=\"Battery Pack\"\n",
    "    elif  d== \"Electrical Failure\":\n",
    "        fault_device=\"Battery Management System (BMS)\"\n",
    "    elif  d== \"Mechanical Failure\":\n",
    "        fault_device=\"Electric Motor Bearings\"\n",
    "    elif  d== \"Environmental Failure\":\n",
    "        fault_device=\" Connectors and Cables\"\n",
    "    st1= f\"🚨 Attention! We've detected a potential  {fault_device} failure.Estimated time to failure:  {a}. Please check the system promptly to avoid disruptions. 😊\"\n",
    "    print(st1)"
   ]
  },
  {
   "cell_type": "code",
   "execution_count": null,
   "id": "c1881e06",
   "metadata": {
    "scrolled": false
   },
   "outputs": [],
   "source": []
  },
  {
   "cell_type": "code",
   "execution_count": null,
   "id": "dab2e6de",
   "metadata": {},
   "outputs": [],
   "source": []
  },
  {
   "cell_type": "code",
   "execution_count": null,
   "id": "1d6fe5ce",
   "metadata": {},
   "outputs": [],
   "source": []
  },
  {
   "cell_type": "code",
   "execution_count": null,
   "id": "67e8e9b2",
   "metadata": {},
   "outputs": [],
   "source": []
  },
  {
   "cell_type": "code",
   "execution_count": null,
   "id": "3b5c974b",
   "metadata": {
    "scrolled": true
   },
   "outputs": [],
   "source": []
  },
  {
   "cell_type": "code",
   "execution_count": null,
   "id": "8c7f5457",
   "metadata": {},
   "outputs": [],
   "source": []
  }
 ],
 "metadata": {
  "kernelspec": {
   "display_name": "Python 3 (ipykernel)",
   "language": "python",
   "name": "python3"
  },
  "language_info": {
   "codemirror_mode": {
    "name": "ipython",
    "version": 3
   },
   "file_extension": ".py",
   "mimetype": "text/x-python",
   "name": "python",
   "nbconvert_exporter": "python",
   "pygments_lexer": "ipython3",
   "version": "3.11.5"
  }
 },
 "nbformat": 4,
 "nbformat_minor": 5
}
